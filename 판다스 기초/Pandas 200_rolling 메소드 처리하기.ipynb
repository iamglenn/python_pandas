{
 "cells": [
  {
   "cell_type": "markdown",
   "metadata": {},
   "source": [
    "## 판다스의 데이터 추가"
   ]
  },
  {
   "cell_type": "code",
   "execution_count": 2,
   "metadata": {},
   "outputs": [
    {
     "name": "stdout",
     "output_type": "stream",
     "text": [
      "Collecting pandas_datareader\n",
      "  Downloading pandas_datareader-0.5.0-py2.py3-none-any.whl (74kB)\n",
      "\u001b[K    100% |████████████████████████████████| 81kB 77kB/s ta 0:00:01\n",
      "\u001b[?25hRequirement already satisfied: pandas>=0.17.0 in /Users/dahlmoon/anaconda/lib/python3.6/site-packages (from pandas_datareader)\n",
      "Collecting requests-ftp (from pandas_datareader)\n",
      "  Downloading requests-ftp-0.3.1.tar.gz\n",
      "Collecting requests-file (from pandas_datareader)\n",
      "  Downloading requests-file-1.4.2.tar.gz\n",
      "Requirement already satisfied: requests>=2.3.0 in /Users/dahlmoon/anaconda/lib/python3.6/site-packages (from pandas_datareader)\n",
      "Requirement already satisfied: python-dateutil>=2 in /Users/dahlmoon/anaconda/lib/python3.6/site-packages (from pandas>=0.17.0->pandas_datareader)\n",
      "Requirement already satisfied: pytz>=2011k in /Users/dahlmoon/anaconda/lib/python3.6/site-packages (from pandas>=0.17.0->pandas_datareader)\n",
      "Requirement already satisfied: numpy>=1.7.0 in /Users/dahlmoon/anaconda/lib/python3.6/site-packages (from pandas>=0.17.0->pandas_datareader)\n",
      "Requirement already satisfied: six in /Users/dahlmoon/anaconda/lib/python3.6/site-packages (from requests-file->pandas_datareader)\n",
      "Requirement already satisfied: idna<2.7,>=2.5 in /Users/dahlmoon/anaconda/lib/python3.6/site-packages (from requests>=2.3.0->pandas_datareader)\n",
      "Requirement already satisfied: urllib3<1.23,>=1.21.1 in /Users/dahlmoon/anaconda/lib/python3.6/site-packages (from requests>=2.3.0->pandas_datareader)\n",
      "Requirement already satisfied: chardet<3.1.0,>=3.0.2 in /Users/dahlmoon/anaconda/lib/python3.6/site-packages (from requests>=2.3.0->pandas_datareader)\n",
      "Requirement already satisfied: certifi>=2017.4.17 in /Users/dahlmoon/anaconda/lib/python3.6/site-packages (from requests>=2.3.0->pandas_datareader)\n",
      "Building wheels for collected packages: requests-ftp, requests-file\n",
      "  Running setup.py bdist_wheel for requests-ftp ... \u001b[?25ldone\n",
      "\u001b[?25h  Stored in directory: /Users/dahlmoon/Library/Caches/pip/wheels/76/fb/0d/1026eb562c34a4982dc9d39c9c582a734eefe7f0455f711deb\n",
      "  Running setup.py bdist_wheel for requests-file ... \u001b[?25ldone\n",
      "\u001b[?25h  Stored in directory: /Users/dahlmoon/Library/Caches/pip/wheels/3e/34/3a/c2e634ca7b545510c1b3b7d94dea084e5fdb5f33558f3c3a81\n",
      "Successfully built requests-ftp requests-file\n",
      "Installing collected packages: requests-ftp, requests-file, pandas-datareader\n",
      "Successfully installed pandas-datareader-0.5.0 requests-file-1.4.2 requests-ftp-0.3.1\n"
     ]
    }
   ],
   "source": [
    "!pip install pandas_datareader"
   ]
  },
  {
   "cell_type": "code",
   "execution_count": 3,
   "metadata": {},
   "outputs": [],
   "source": [
    "import pandas as pd\n",
    "import pandas_datareader.data as web\n"
   ]
  },
  {
   "cell_type": "code",
   "execution_count": 10,
   "metadata": {},
   "outputs": [
    {
     "data": {
      "text/plain": [
       "['DataReader',\n",
       " 'EdgarIndexReader',\n",
       " 'EnigmaReader',\n",
       " 'EurostatReader',\n",
       " 'FamaFrenchReader',\n",
       " 'FredReader',\n",
       " 'GoogleDailyReader',\n",
       " 'GoogleOptions',\n",
       " 'GoogleQuotesReader',\n",
       " 'OECDReader',\n",
       " 'Options',\n",
       " 'QuandlReader',\n",
       " 'YahooActionReader',\n",
       " 'YahooDailyReader',\n",
       " 'YahooDivReader',\n",
       " 'YahooOptions',\n",
       " 'YahooQuotesReader',\n",
       " '__builtins__',\n",
       " '__cached__',\n",
       " '__doc__',\n",
       " '__file__',\n",
       " '__loader__',\n",
       " '__name__',\n",
       " '__package__',\n",
       " '__spec__',\n",
       " 'get_components_yahoo',\n",
       " 'get_data_enigma',\n",
       " 'get_data_famafrench',\n",
       " 'get_data_fred',\n",
       " 'get_data_google',\n",
       " 'get_data_quandl',\n",
       " 'get_data_yahoo',\n",
       " 'get_data_yahoo_actions',\n",
       " 'get_nasdaq_symbols',\n",
       " 'get_quote_google',\n",
       " 'get_quote_yahoo',\n",
       " 'warnings']"
      ]
     },
     "execution_count": 10,
     "metadata": {},
     "output_type": "execute_result"
    }
   ],
   "source": [
    "dir(web)"
   ]
  },
  {
   "cell_type": "code",
   "execution_count": 9,
   "metadata": {},
   "outputs": [
    {
     "name": "stdout",
     "output_type": "stream",
     "text": [
      "Help on function DataReader in module pandas_datareader.data:\n",
      "\n",
      "DataReader(name, data_source=None, start=None, end=None, retry_count=3, pause=0.001, session=None, access_key=None)\n",
      "    Imports data from a number of online sources.\n",
      "    \n",
      "    Currently supports Yahoo! Finance, Google Finance, St. Louis FED (FRED),\n",
      "    Kenneth French's data library, and the SEC's EDGAR Index.\n",
      "    \n",
      "    Parameters\n",
      "    ----------\n",
      "    name : str or list of strs\n",
      "        the name of the dataset. Some data sources (yahoo, google, fred) will\n",
      "        accept a list of names.\n",
      "    data_source: {str, None}\n",
      "        the data source (\"yahoo\", \"yahoo-actions\", \"yahoo-dividends\",\n",
      "        \"google\", \"fred\", \"ff\", or \"edgar-index\")\n",
      "    start : {datetime, None}\n",
      "        left boundary for range (defaults to 1/1/2010)\n",
      "    end : {datetime, None}\n",
      "        right boundary for range (defaults to today)\n",
      "    retry_count : {int, 3}\n",
      "        Number of times to retry query request.\n",
      "    pause : {numeric, 0.001}\n",
      "        Time, in seconds, to pause between consecutive queries of chunks. If\n",
      "        single value given for symbol, represents the pause between retries.\n",
      "    session : Session, default None\n",
      "            requests.sessions.Session instance to be used\n",
      "    \n",
      "    Examples\n",
      "    ----------\n",
      "    \n",
      "    # Data from Yahoo! Finance\n",
      "    gs = DataReader(\"GS\", \"yahoo\")\n",
      "    \n",
      "    # Corporate Actions (Dividend and Split Data)\n",
      "    # with ex-dates from Yahoo! Finance\n",
      "    gs = DataReader(\"GS\", \"yahoo-actions\")\n",
      "    \n",
      "    # Data from Google Finance\n",
      "    aapl = DataReader(\"AAPL\", \"google\")\n",
      "    \n",
      "    # Data from FRED\n",
      "    vix = DataReader(\"VIXCLS\", \"fred\")\n",
      "    \n",
      "    # Data from Fama/French\n",
      "    ff = DataReader(\"F-F_Research_Data_Factors\", \"famafrench\")\n",
      "    ff = DataReader(\"F-F_Research_Data_Factors_weekly\", \"famafrench\")\n",
      "    ff = DataReader(\"6_Portfolios_2x3\", \"famafrench\")\n",
      "    ff = DataReader(\"F-F_ST_Reversal_Factor\", \"famafrench\")\n",
      "    \n",
      "    # Data from EDGAR index\n",
      "    ed = DataReader(\"full\", \"edgar-index\")\n",
      "    ed2 = DataReader(\"daily\", \"edgar-index\")\n",
      "\n"
     ]
    }
   ],
   "source": [
    "help(web.DataReader)"
   ]
  },
  {
   "cell_type": "code",
   "execution_count": 6,
   "metadata": {
    "collapsed": true
   },
   "outputs": [],
   "source": [
    "gs = web.DataReader(\"078930.KS\", \"yahoo\", \"2014-01-01\", \"2017-10-06\")"
   ]
  },
  {
   "cell_type": "code",
   "execution_count": 7,
   "metadata": {},
   "outputs": [
    {
     "data": {
      "text/html": [
       "<div>\n",
       "<style>\n",
       "    .dataframe thead tr:only-child th {\n",
       "        text-align: right;\n",
       "    }\n",
       "\n",
       "    .dataframe thead th {\n",
       "        text-align: left;\n",
       "    }\n",
       "\n",
       "    .dataframe tbody tr th {\n",
       "        vertical-align: top;\n",
       "    }\n",
       "</style>\n",
       "<table border=\"1\" class=\"dataframe\">\n",
       "  <thead>\n",
       "    <tr style=\"text-align: right;\">\n",
       "      <th></th>\n",
       "      <th>Open</th>\n",
       "      <th>High</th>\n",
       "      <th>Low</th>\n",
       "      <th>Close</th>\n",
       "      <th>Adj Close</th>\n",
       "      <th>Volume</th>\n",
       "    </tr>\n",
       "    <tr>\n",
       "      <th>Date</th>\n",
       "      <th></th>\n",
       "      <th></th>\n",
       "      <th></th>\n",
       "      <th></th>\n",
       "      <th></th>\n",
       "      <th></th>\n",
       "    </tr>\n",
       "  </thead>\n",
       "  <tbody>\n",
       "    <tr>\n",
       "      <th>2014-01-02</th>\n",
       "      <td>58200.0</td>\n",
       "      <td>58300.0</td>\n",
       "      <td>56000.0</td>\n",
       "      <td>56400.0</td>\n",
       "      <td>51602.105469</td>\n",
       "      <td>247497.0</td>\n",
       "    </tr>\n",
       "    <tr>\n",
       "      <th>2014-01-03</th>\n",
       "      <td>56500.0</td>\n",
       "      <td>56700.0</td>\n",
       "      <td>55100.0</td>\n",
       "      <td>55700.0</td>\n",
       "      <td>50961.656250</td>\n",
       "      <td>220482.0</td>\n",
       "    </tr>\n",
       "    <tr>\n",
       "      <th>2014-01-06</th>\n",
       "      <td>55400.0</td>\n",
       "      <td>55800.0</td>\n",
       "      <td>54600.0</td>\n",
       "      <td>55500.0</td>\n",
       "      <td>50778.664063</td>\n",
       "      <td>190935.0</td>\n",
       "    </tr>\n",
       "    <tr>\n",
       "      <th>2014-01-07</th>\n",
       "      <td>55000.0</td>\n",
       "      <td>55600.0</td>\n",
       "      <td>54900.0</td>\n",
       "      <td>55100.0</td>\n",
       "      <td>50412.695313</td>\n",
       "      <td>179610.0</td>\n",
       "    </tr>\n",
       "    <tr>\n",
       "      <th>2014-01-08</th>\n",
       "      <td>55300.0</td>\n",
       "      <td>55400.0</td>\n",
       "      <td>53700.0</td>\n",
       "      <td>54300.0</td>\n",
       "      <td>49680.750000</td>\n",
       "      <td>374566.0</td>\n",
       "    </tr>\n",
       "  </tbody>\n",
       "</table>\n",
       "</div>"
      ],
      "text/plain": [
       "               Open     High      Low    Close     Adj Close    Volume\n",
       "Date                                                                  \n",
       "2014-01-02  58200.0  58300.0  56000.0  56400.0  51602.105469  247497.0\n",
       "2014-01-03  56500.0  56700.0  55100.0  55700.0  50961.656250  220482.0\n",
       "2014-01-06  55400.0  55800.0  54600.0  55500.0  50778.664063  190935.0\n",
       "2014-01-07  55000.0  55600.0  54900.0  55100.0  50412.695313  179610.0\n",
       "2014-01-08  55300.0  55400.0  53700.0  54300.0  49680.750000  374566.0"
      ]
     },
     "execution_count": 7,
     "metadata": {},
     "output_type": "execute_result"
    }
   ],
   "source": [
    "gs.head()"
   ]
  },
  {
   "cell_type": "code",
   "execution_count": 8,
   "metadata": {},
   "outputs": [
    {
     "data": {
      "text/html": [
       "<div>\n",
       "<style>\n",
       "    .dataframe thead tr:only-child th {\n",
       "        text-align: right;\n",
       "    }\n",
       "\n",
       "    .dataframe thead th {\n",
       "        text-align: left;\n",
       "    }\n",
       "\n",
       "    .dataframe tbody tr th {\n",
       "        vertical-align: top;\n",
       "    }\n",
       "</style>\n",
       "<table border=\"1\" class=\"dataframe\">\n",
       "  <thead>\n",
       "    <tr style=\"text-align: right;\">\n",
       "      <th></th>\n",
       "      <th>Open</th>\n",
       "      <th>High</th>\n",
       "      <th>Low</th>\n",
       "      <th>Close</th>\n",
       "      <th>Adj Close</th>\n",
       "      <th>Volume</th>\n",
       "    </tr>\n",
       "    <tr>\n",
       "      <th>Date</th>\n",
       "      <th></th>\n",
       "      <th></th>\n",
       "      <th></th>\n",
       "      <th></th>\n",
       "      <th></th>\n",
       "      <th></th>\n",
       "    </tr>\n",
       "  </thead>\n",
       "  <tbody>\n",
       "    <tr>\n",
       "      <th>2017-09-27</th>\n",
       "      <td>64700.0</td>\n",
       "      <td>65800.0</td>\n",
       "      <td>64700.0</td>\n",
       "      <td>65800.0</td>\n",
       "      <td>65800.0</td>\n",
       "      <td>118293.0</td>\n",
       "    </tr>\n",
       "    <tr>\n",
       "      <th>2017-09-28</th>\n",
       "      <td>65000.0</td>\n",
       "      <td>65000.0</td>\n",
       "      <td>64100.0</td>\n",
       "      <td>64600.0</td>\n",
       "      <td>64600.0</td>\n",
       "      <td>169122.0</td>\n",
       "    </tr>\n",
       "    <tr>\n",
       "      <th>2017-09-29</th>\n",
       "      <td>64800.0</td>\n",
       "      <td>65600.0</td>\n",
       "      <td>64400.0</td>\n",
       "      <td>65600.0</td>\n",
       "      <td>65600.0</td>\n",
       "      <td>147107.0</td>\n",
       "    </tr>\n",
       "    <tr>\n",
       "      <th>2017-10-02</th>\n",
       "      <td>65600.0</td>\n",
       "      <td>65600.0</td>\n",
       "      <td>65600.0</td>\n",
       "      <td>65600.0</td>\n",
       "      <td>65600.0</td>\n",
       "      <td>0.0</td>\n",
       "    </tr>\n",
       "    <tr>\n",
       "      <th>2017-10-10</th>\n",
       "      <td>65600.0</td>\n",
       "      <td>65600.0</td>\n",
       "      <td>65600.0</td>\n",
       "      <td>65600.0</td>\n",
       "      <td>65600.0</td>\n",
       "      <td>0.0</td>\n",
       "    </tr>\n",
       "  </tbody>\n",
       "</table>\n",
       "</div>"
      ],
      "text/plain": [
       "               Open     High      Low    Close  Adj Close    Volume\n",
       "Date                                                               \n",
       "2017-09-27  64700.0  65800.0  64700.0  65800.0    65800.0  118293.0\n",
       "2017-09-28  65000.0  65000.0  64100.0  64600.0    64600.0  169122.0\n",
       "2017-09-29  64800.0  65600.0  64400.0  65600.0    65600.0  147107.0\n",
       "2017-10-02  65600.0  65600.0  65600.0  65600.0    65600.0       0.0\n",
       "2017-10-10  65600.0  65600.0  65600.0  65600.0    65600.0       0.0"
      ]
     },
     "execution_count": 8,
     "metadata": {},
     "output_type": "execute_result"
    }
   ],
   "source": [
    "gs.tail()"
   ]
  },
  {
   "cell_type": "markdown",
   "metadata": {},
   "source": [
    "## 5일 기준의 이동평균을 계산하기"
   ]
  },
  {
   "cell_type": "code",
   "execution_count": 11,
   "metadata": {
    "collapsed": true
   },
   "outputs": [],
   "source": [
    "ma5 = gs['Adj Close'].rolling(window=5).mean()"
   ]
  },
  {
   "cell_type": "code",
   "execution_count": 12,
   "metadata": {},
   "outputs": [
    {
     "data": {
      "text/plain": [
       "Date\n",
       "2014-01-02             NaN\n",
       "2014-01-03             NaN\n",
       "2014-01-06             NaN\n",
       "2014-01-07             NaN\n",
       "2014-01-08    50687.174219\n",
       "Name: Adj Close, dtype: float64"
      ]
     },
     "execution_count": 12,
     "metadata": {},
     "output_type": "execute_result"
    }
   ],
   "source": [
    "ma5.head()"
   ]
  },
  {
   "cell_type": "code",
   "execution_count": 13,
   "metadata": {},
   "outputs": [
    {
     "data": {
      "text/plain": [
       "Date\n",
       "2017-09-27    65260.0\n",
       "2017-09-28    64960.0\n",
       "2017-09-29    64800.0\n",
       "2017-10-02    65120.0\n",
       "2017-10-10    65440.0\n",
       "Name: Adj Close, dtype: float64"
      ]
     },
     "execution_count": 13,
     "metadata": {},
     "output_type": "execute_result"
    }
   ],
   "source": [
    "ma5.tail()"
   ]
  },
  {
   "cell_type": "code",
   "execution_count": null,
   "metadata": {
    "collapsed": true
   },
   "outputs": [],
   "source": []
  }
 ],
 "metadata": {
  "kernelspec": {
   "display_name": "Python 3",
   "language": "python",
   "name": "python3"
  },
  "language_info": {
   "codemirror_mode": {
    "name": "ipython",
    "version": 3
   },
   "file_extension": ".py",
   "mimetype": "text/x-python",
   "name": "python",
   "nbconvert_exporter": "python",
   "pygments_lexer": "ipython3",
   "version": "3.6.1"
  }
 },
 "nbformat": 4,
 "nbformat_minor": 2
}
